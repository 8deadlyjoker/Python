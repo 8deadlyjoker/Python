{
 "cells": [
  {
   "cell_type": "markdown",
   "id": "48a04dd1",
   "metadata": {},
   "source": [
    "# Dictionary & Its Functions Explained\n",
    "Before going through the actual content, i.e., the implementation of a dictionary, it is essential to know some fundamental theories so that we can understand what we are going to learn and why we are spending our precious time learning it."
   ]
  },
  {
   "cell_type": "markdown",
   "id": "0c13a69a",
   "metadata": {},
   "source": [
    "### Let's start with the basic definition of a Python Dictionary:\n",
    "“Python dictionary is an unordered collection of items. Each item of the dictionary has a key and value pair/ key-value pair.”"
   ]
  },
  {
   "cell_type": "markdown",
   "id": "de076867",
   "metadata": {},
   "source": [
    "### Now coming to the more formal approach:\n",
    "Every programming language has its distinct features, commonly known as its key features. With that said, Python’s one out-of-the-box feature is “dictionaries”. Dictionaries may look very similar to a “List”. Still, dictionaries have some distinct features that do not hold true for other data types like lists, and those features make it (python dictionary) special."
   ]
  },
  {
   "cell_type": "markdown",
   "id": "64a91b23",
   "metadata": {},
   "source": [
    "#### Here are a few important features of a python dictionary:\n",
    "- It is unordered (no sequence is required - data or entries have no order)<br>\n",
    "- It is mutable (values can be changed even after its formation, or new data/information can be added to the already existing dictionary, we can also pop/remove an entry completely)<br>\n",
    "- It is indexed (Dictionary contains key-value pairs, and indexing is done with keys. Also, after the Python 3.7th update, the compiler stores the entries in the order they are created)<br>\n",
    "- No duplication of data (each key is unique; no two keys can have the same name, so there is no chance for a data being overridden)\n",
    "<br>\n",
    "<br>\n",
    "If we talk a little about how it works, its syntax comprises of key and values separated by colons in curly brackets, where the key is used as a keyword, as we see in real life dictionaries, and the values are like the explanation of the key or what the key holds (the value). And for the successful retrieval of the data, we must know the key so that we can access its value, just like in a regular oxford dictionary where if we don't know the word or its spelling, we cannot obtain its definition. Let's look into the syntax of a Python dictionary:"
   ]
  },
  {
   "cell_type": "code",
   "execution_count": 5,
   "id": "33faa6c4",
   "metadata": {},
   "outputs": [
    {
     "name": "stdout",
     "output_type": "stream",
     "text": [
      "mooh\n"
     ]
    }
   ],
   "source": [
    "a = {'key': 'value', 'cow':'mooh'}\n",
    "print(a['cow'])\n",
    "#will print \"mooh\" on the screen"
   ]
  },
  {
   "cell_type": "markdown",
   "id": "6ca06c64",
   "metadata": {},
   "source": [
    "With the help of dictionaries, we do not have to do most of our work manually through code like in C or C++. I mean that Python provides us with a long list of already defined methods for dictionaries that can help us do our work in a shorter span of time with a minimal amount of code. Some of these methods are, clear(), copy(), popitem(), etc. The best part about them is that no extra effort is required to be put in order to learn the functionality as their names explain their functions (in most of the cases), such as clear() will clear all the data from the dictionary, making it empty, copy() will make a copy of the dictionary, etc."
   ]
  },
  {
   "cell_type": "markdown",
   "id": "e02e0db0",
   "metadata": {},
   "source": [
    "#### Some distinct features that a dictionary provides are:\n",
    "\n",
    "- We can store heterogeneous data into our dictionary, i.e., numbers, strings, tuples, and the other objects can be stored in the same dictionary.\n",
    "- Different data types can be used in a single list, making the value of some keys in the dictionary."
   ]
  },
  {
   "cell_type": "markdown",
   "id": "100c667e",
   "metadata": {},
   "source": [
    "## Examples"
   ]
  },
  {
   "cell_type": "code",
   "execution_count": 6,
   "id": "3818b605",
   "metadata": {},
   "outputs": [
    {
     "name": "stdout",
     "output_type": "stream",
     "text": [
      "<class 'dict'>\n"
     ]
    }
   ],
   "source": [
    "# Dictionary is nothing but key value pairs\n",
    "d1 = {}\n",
    "print(type(d1))"
   ]
  },
  {
   "cell_type": "code",
   "execution_count": 7,
   "id": "47b3aacb",
   "metadata": {},
   "outputs": [
    {
     "name": "stdout",
     "output_type": "stream",
     "text": [
      "{'Harry': 'Burger', 'Rohan': 'Fish', 'SkillF': 'Roti', 'Shubham': {'B': 'maggie', 'L': 'roti', 'D': 'Chicken'}, 'Ankit': 'Junk Food'}\n"
     ]
    }
   ],
   "source": [
    "d2 = {\"Harry\":\"Burger\",\n",
    "      \"Rohan\":\"Fish\",\n",
    "      \"SkillF\":\"Roti\",\n",
    "      \"Shubham\":{\"B\":\"maggie\", \"L\":\"roti\", \"D\":\"Chicken\"}}\n",
    "d2[\"Ankit\"] = \"Junk Food\"\n",
    "print(d2)"
   ]
  },
  {
   "cell_type": "code",
   "execution_count": 8,
   "id": "fec2202b",
   "metadata": {},
   "outputs": [
    {
     "name": "stdout",
     "output_type": "stream",
     "text": [
      "{'Harry': 'Burger', 'Rohan': 'Fish', 'SkillF': 'Roti', 'Shubham': {'B': 'maggie', 'L': 'roti', 'D': 'Chicken'}, 'Ankit': 'Junk Food', 420: 'Kebabs'}\n"
     ]
    }
   ],
   "source": [
    "d2[420] = \"Kebabs\"\n",
    "print(d2)"
   ]
  },
  {
   "cell_type": "code",
   "execution_count": 9,
   "id": "d76cf077",
   "metadata": {},
   "outputs": [
    {
     "name": "stdout",
     "output_type": "stream",
     "text": [
      "{'B': 'maggie', 'L': 'roti', 'D': 'Chicken'}\n"
     ]
    }
   ],
   "source": [
    "del d2[420]\n",
    "print(d2[\"Shubham\"])"
   ]
  },
  {
   "cell_type": "code",
   "execution_count": 10,
   "id": "06689cb2",
   "metadata": {},
   "outputs": [
    {
     "name": "stdout",
     "output_type": "stream",
     "text": [
      "dict_keys(['Harry', 'Rohan', 'SkillF', 'Shubham', 'Ankit', 'Leena'])\n",
      "dict_items([('Harry', 'Burger'), ('Rohan', 'Fish'), ('SkillF', 'Roti'), ('Shubham', {'B': 'maggie', 'L': 'roti', 'D': 'Chicken'}), ('Ankit', 'Junk Food'), ('Leena', 'Toffee')])\n"
     ]
    }
   ],
   "source": [
    "d3 = d2.copy()\n",
    "del d3[\"Harry\"]\n",
    "d2.update({\"Leena\":\"Toffee\"})\n",
    "print(d2.keys())\n",
    "print(d2.items())"
   ]
  }
 ],
 "metadata": {
  "kernelspec": {
   "display_name": "Python 3",
   "language": "python",
   "name": "python3"
  },
  "language_info": {
   "codemirror_mode": {
    "name": "ipython",
    "version": 3
   },
   "file_extension": ".py",
   "mimetype": "text/x-python",
   "name": "python",
   "nbconvert_exporter": "python",
   "pygments_lexer": "ipython3",
   "version": "3.8.8"
  }
 },
 "nbformat": 4,
 "nbformat_minor": 5
}
