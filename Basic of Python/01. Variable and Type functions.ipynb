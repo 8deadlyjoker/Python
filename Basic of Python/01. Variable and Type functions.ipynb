{
 "cells": [
  {
   "cell_type": "markdown",
   "id": "04434c2b",
   "metadata": {},
   "source": [
    "# Variables\n",
    "A Python variable is a reserved memory location to store values. In other words, a variable in a python program gives data to the computer for processing. Every value in Python has a datatype. Different data types in Python are Numbers, List, Tuple, Strings, Dictionary, etc."
   ]
  },
  {
   "cell_type": "code",
   "execution_count": 4,
   "id": "2dd5c1d8",
   "metadata": {},
   "outputs": [],
   "source": [
    "var1 = \"Hello world\"\n",
    "var2 = 4\n",
    "var3 = 36.7"
   ]
  },
  {
   "cell_type": "markdown",
   "id": "970e1e87",
   "metadata": {},
   "source": [
    "# Using type function \n",
    "type() method returns class type of the argument(object) passed as parameter. type() function is mostly used for debugging purposes.\n",
    "\n",
    "Two different types of arguments can be passed to type() function, single and three argument. If single argument type(obj) is passed, it returns the type of given object. If three arguments type(name, bases, dict) is passed, it returns a new type object.\n",
    "\n",
    "Syntax :\n",
    "\n",
    "type(object)\n",
    "type(name, bases, dict)\n",
    "Parameters :\n",
    "\n",
    "name : name of class, which later corresponds to the __name__ attribute of the class.\n",
    "bases : tuple of classes from which the current class derives. Later corresponds to the __bases__ attribute.\n",
    "dict : a dictionary that holds the namespaces for the class. Later corresponds to the __dict__ attribute.\n",
    "\n",
    "\n",
    "\n",
    "Returntype :\n",
    "\n",
    "returns a new type class or essentially a metaclass."
   ]
  },
  {
   "cell_type": "code",
   "execution_count": 9,
   "id": "37f5fa3c",
   "metadata": {},
   "outputs": [
    {
     "name": "stdout",
     "output_type": "stream",
     "text": [
      "<class 'str'>\n",
      "<class 'int'>\n",
      "<class 'float'>\n"
     ]
    }
   ],
   "source": [
    "print(type(var1))\n",
    "print(type(var2))\n",
    "print(type(var3))"
   ]
  },
  {
   "cell_type": "markdown",
   "id": "7ed50824",
   "metadata": {},
   "source": [
    "# Add of two no."
   ]
  },
  {
   "cell_type": "code",
   "execution_count": 7,
   "id": "8c6d8451",
   "metadata": {},
   "outputs": [
    {
     "name": "stdout",
     "output_type": "stream",
     "text": [
      "Enter first number : \n",
      "2\n",
      "Enter second number : \n",
      "3\n",
      "Sum of these number :  5\n"
     ]
    }
   ],
   "source": [
    "print(\"Enter first number : \")\n",
    "n1 = input()\n",
    "print(\"Enter second number : \")\n",
    "n2 = input()\n",
    "print(\"Sum of these number : \",int(n1) + int(n2))"
   ]
  }
 ],
 "metadata": {
  "celltoolbar": "Raw Cell Format",
  "kernelspec": {
   "display_name": "Python 3",
   "language": "python",
   "name": "python3"
  },
  "language_info": {
   "codemirror_mode": {
    "name": "ipython",
    "version": 3
   },
   "file_extension": ".py",
   "mimetype": "text/x-python",
   "name": "python",
   "nbconvert_exporter": "python",
   "pygments_lexer": "ipython3",
   "version": "3.8.8"
  }
 },
 "nbformat": 4,
 "nbformat_minor": 5
}
