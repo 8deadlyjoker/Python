{
 "cells": [
  {
   "cell_type": "markdown",
   "id": "b2c3ee9f",
   "metadata": {},
   "source": [
    "# Python Lists And List Functions\n",
    "Python lists are containers used to store a list of values of any data type. In simple words, we can say that a list is a collection of elements from any data type. E.g."
   ]
  },
  {
   "cell_type": "code",
   "execution_count": 1,
   "id": "64eccb98",
   "metadata": {},
   "outputs": [],
   "source": [
    "list1 = ['harry', 'ram', 'Aakash', 'shyam', 5, 4.85]"
   ]
  },
  {
   "cell_type": "markdown",
   "id": "68ceed0a",
   "metadata": {},
   "source": [
    "The above list contains strings, an integer, and even an element of type float. A list can contain any kind of data, i.e., it’s not mandatory to form a list of only one data type. The list can contain any kind of data in it.\n",
    "\n",
    "Do you remember we saw indexing in strings? List elements can also be accessed by using Indices, i.e., the first element of the list has 0 index and the second element has one as its index, and so on.\n",
    "\n",
    "**Note:**  If you put an index that isn’t in the list, you will get an error. i.e., if a list named list1 contains four elements, list1[4] will throw an error because the list index starts from 0 and goes up to (index-1) or 3.<br>\n",
    "**Have a look at the examples below:**"
   ]
  },
  {
   "cell_type": "raw",
   "id": "d27ca6cc",
   "metadata": {},
   "source": [
    "                        Lists in Python\n",
    "\n",
    "[]                                             # list with no member, empty list\n",
    "[1, 2, 3]                                      # list of integers \n",
    "[1, 2.5, 3.7, 9]                               # list of numbers (integers and floating point)\n",
    "['a', 'b', 'c']                                # lisst of characters\n",
    "['a', 1, 'b', 3.5, 'zero']                     # list of mixed value types\n",
    "['One', 'Two', 'Three']                        # list of strings "
   ]
  },
  {
   "cell_type": "markdown",
   "id": "8e2842f7",
   "metadata": {},
   "source": [
    "## List Methods :\n",
    "Here is the list of list methods in Python. These methods can be used in any python list to produce the desired output"
   ]
  },
  {
   "cell_type": "code",
   "execution_count": 2,
   "id": "87a218c8",
   "metadata": {},
   "outputs": [
    {
     "name": "stdout",
     "output_type": "stream",
     "text": [
      "[1, 8, 4, 3, 15, 20, 25, 89, 65]\n",
      "[1, 3, 4, 8, 15, 20, 25, 65, 89]\n",
      "[89, 65, 25, 20, 15, 8, 4, 3, 1]\n"
     ]
    }
   ],
   "source": [
    "# List Methods :\n",
    "l1=[1,8,4,3,15,20,25,89,65]       #l1 is a list\n",
    "print(l1)\n",
    "\n",
    "l1.sort()\n",
    "print(l1)      #l1 after sorting\n",
    "l1.reverse()\n",
    "print(l1)      #l1 after reversing all elements"
   ]
  },
  {
   "cell_type": "markdown",
   "id": "783ef73f",
   "metadata": {},
   "source": [
    "## List Slicing :\n",
    "List slices, like string slices, return a part of a list extracted out of it. Let me explain; you can use indices to get elements and create list slices as per the following format :"
   ]
  },
  {
   "cell_type": "raw",
   "id": "6030517f",
   "metadata": {},
   "source": [
    "seq = list1[start_index:stop_index]"
   ]
  },
  {
   "cell_type": "markdown",
   "id": "0a7583de",
   "metadata": {},
   "source": [
    "Just like we saw in strings, slicing will go from a start index to stop_index-1.\n",
    "The seq list, a slice of list1, contains elements from the specified start_index to specified (stop_index – 1)."
   ]
  },
  {
   "cell_type": "markdown",
   "id": "61fca33a",
   "metadata": {},
   "source": [
    "<img src=\"img/liststep3.jpg\" >"
   ]
  },
  {
   "cell_type": "markdown",
   "id": "9a688759",
   "metadata": {},
   "source": [
    "## List Methods:\n",
    "There are a lot of list methods that make our life easy while using lists in python. Let's have a look at a few of them below:"
   ]
  },
  {
   "cell_type": "code",
   "execution_count": 5,
   "id": "a01debee",
   "metadata": {},
   "outputs": [
    {
     "name": "stdout",
     "output_type": "stream",
     "text": [
      "[1, 2, 3, 6, 5, 4, 7]\n"
     ]
    }
   ],
   "source": [
    "list1=[1,2,3,6,5,4]     #list1 is a list\n",
    "\n",
    "list1.append(7)    # This will add 7 in the last of list\n",
    "print(list1)"
   ]
  },
  {
   "cell_type": "code",
   "execution_count": 6,
   "id": "769cc6d7",
   "metadata": {},
   "outputs": [
    {
     "name": "stdout",
     "output_type": "stream",
     "text": [
      "[1, 2, 3, 8, 6, 5, 4, 7]\n"
     ]
    }
   ],
   "source": [
    "list1.insert(3,8)    # This will add 8 at 3 index in list\n",
    "print(list1)"
   ]
  },
  {
   "cell_type": "code",
   "execution_count": 7,
   "id": "4762573f",
   "metadata": {},
   "outputs": [
    {
     "name": "stdout",
     "output_type": "stream",
     "text": [
      "[2, 3, 8, 6, 5, 4, 7]\n"
     ]
    }
   ],
   "source": [
    "list1.remove(1)    #This will remove 1 from the list\n",
    "print(list1)"
   ]
  },
  {
   "cell_type": "code",
   "execution_count": 8,
   "id": "3ee62f64",
   "metadata": {},
   "outputs": [
    {
     "name": "stdout",
     "output_type": "stream",
     "text": [
      "[2, 3, 6, 5, 4, 7]\n"
     ]
    }
   ],
   "source": [
    "list1.pop(2)          #This will delete and return index 2 value.\n",
    "print(list1)"
   ]
  },
  {
   "cell_type": "markdown",
   "id": "cfec655e",
   "metadata": {},
   "source": [
    "## Tuples in Python:\n",
    "A tuple is an immutable data type in Python. A tuple in python is a collection of elements enclosed in () (parentheses). Tuple, once defined, can’t be changed, i.e., its elements or values can’t be altered or manipulated."
   ]
  },
  {
   "cell_type": "code",
   "execution_count": 9,
   "id": "1d1ff9bb",
   "metadata": {},
   "outputs": [],
   "source": [
    "# Tuples in Python :\n",
    "a=()    # It's an example of empty tuple\n",
    "x=(1,)   # Tuple with single value i.e. 1 \n",
    "tup1 = (1,2,3,4,5)\n",
    "tup1 = ('harry', 5, 'demo', 5.8)"
   ]
  },
  {
   "cell_type": "markdown",
   "id": "ae8ee0c2",
   "metadata": {},
   "source": [
    "### Note: \n",
    "To create a tuple of one element, it is necessary to put a comma  ‘,’ after that one element like this tup=(1,) because if we have only 1 element inside the parenthesis, the python interpreter will interpret it as a single entity which is why it’s important to use a ‘,’ after the element while creating tuples of a single element."
   ]
  },
  {
   "cell_type": "markdown",
   "id": "6bdd3fc5",
   "metadata": {},
   "source": [
    "## Swapping of two numbers\n",
    "Python provides a very handy way of swapping two numbers like below:"
   ]
  },
  {
   "cell_type": "code",
   "execution_count": 10,
   "id": "a3c5ffbc",
   "metadata": {},
   "outputs": [
    {
     "name": "stdout",
     "output_type": "stream",
     "text": [
      "10 15\n",
      "15 10\n"
     ]
    }
   ],
   "source": [
    "# Swapping of two numbers :\n",
    "a = 10 \n",
    "b = 15\n",
    "print(a,b)     #It will give output as: 10 15\n",
    "a,b = b,a \n",
    "print(a,b)     #It will give output as: 15 10"
   ]
  }
 ],
 "metadata": {
  "kernelspec": {
   "display_name": "Python 3",
   "language": "python",
   "name": "python3"
  },
  "language_info": {
   "codemirror_mode": {
    "name": "ipython",
    "version": 3
   },
   "file_extension": ".py",
   "mimetype": "text/x-python",
   "name": "python",
   "nbconvert_exporter": "python",
   "pygments_lexer": "ipython3",
   "version": "3.8.8"
  }
 },
 "nbformat": 4,
 "nbformat_minor": 5
}
