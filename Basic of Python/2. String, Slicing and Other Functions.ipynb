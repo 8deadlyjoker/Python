{
 "cells": [
  {
   "cell_type": "markdown",
   "id": "ced4a96b",
   "metadata": {},
   "source": [
    "# String Slicing And Other Functions In Python\n",
    "The string is a data type in Python. Strings in Python programming language are arrays of bytes representing a sequence of characters. In simple terms, Strings are the combination or collection of characters enclosed in quotes. Strings are one of the most used data types in any programming language because most of the real-world data such as name, address, or any sequence which contains alphanumeric characters are mostly of type ‘String’.\n",
    "\n",
    "Primarily, you will find three types of strings in Python :\n",
    "\n",
    "Single Quote String – (‘Single Quote String’)\n",
    "\n",
    "Double Quote String – (“Double Quote String”)\n",
    "\n",
    "Triple Quote String – (‘’’ Triple Quote String ‘’’)"
   ]
  },
  {
   "cell_type": "code",
   "execution_count": 3,
   "id": "46313fe8",
   "metadata": {},
   "outputs": [
    {
     "name": "stdout",
     "output_type": "stream",
     "text": [
      "Tom is a good boy.\n"
     ]
    }
   ],
   "source": [
    "my_str = \"Tom is a good boy.\"\n",
    "print(my_str)"
   ]
  },
  {
   "cell_type": "markdown",
   "id": "4e59d62e",
   "metadata": {},
   "source": [
    "# String Indexing\n",
    "Often in programming languages, individual items in an ordered set of data can be accessed directly using a numeric index or key value. This process is referred to as indexing.\n",
    "\n",
    "In Python, strings are ordered sequences of character data, and thus can be indexed in this way. Individual characters in a string can be accessed by specifying the string name followed by a number in square brackets ([ ]).\n",
    "\n",
    "String indexing in Python is zero-based: the first character in the string has index 0, the next has index 1, and so on. The index of the last character will be the length of the string minus one."
   ]
  },
  {
   "cell_type": "markdown",
   "id": "f61044b3",
   "metadata": {},
   "source": [
    "# len() Function : \n",
    "This len() function returns the total no. of characters in a string. E.g., for string a=\"abc\", len(a) will return three as the output as it is a string variable containing 3 characters"
   ]
  },
  {
   "cell_type": "code",
   "execution_count": 20,
   "id": "a11960e7",
   "metadata": {},
   "outputs": [
    {
     "name": "stdout",
     "output_type": "stream",
     "text": [
      "18\n"
     ]
    }
   ],
   "source": [
    "print(len(my_str))"
   ]
  },
  {
   "cell_type": "markdown",
   "id": "c54e2c2b",
   "metadata": {},
   "source": [
    "<img src=\"img/Indexing_of_string.png\" style=\"width:400px;height:180px\"/>"
   ]
  },
  {
   "cell_type": "markdown",
   "id": "c8c07112",
   "metadata": {},
   "source": [
    "###### \n",
    "Note: The indexes of a string begin from 0 to (length-1) in the forward direction and -1,-2,-3,…, -length in the backward direction."
   ]
  },
  {
   "cell_type": "code",
   "execution_count": 24,
   "id": "d196ecfa",
   "metadata": {},
   "outputs": [
    {
     "name": "stdout",
     "output_type": "stream",
     "text": [
      "Tom\n"
     ]
    }
   ],
   "source": [
    "print(my_str[0:3])"
   ]
  },
  {
   "cell_type": "markdown",
   "id": "b9bd0bf2",
   "metadata": {},
   "source": [
    "# String Slicing :\n",
    "As we know, the meaning of the word ‘slice’ is ‘a part of.’ I am sure you have sliced paneer cubes at home!\n",
    "Just like paneer slice refers to the part of the paneer cube; In Python, the term ‘string slice’ refers to a part of the string, where strings are sliced using a range of indices.\n",
    "To do string slicing, we just need to put the name of the string followed by [n:m]. It means ‘n’ denotes the index from which slicing should start, and ‘m’ denotes the index at which slicing should terminate or complete. Let's look into an example!"
   ]
  },
  {
   "cell_type": "markdown",
   "id": "e51abad5",
   "metadata": {},
   "source": [
    "<img src=\"img/Stringslice_2.jpg\" style=\"width:832px;height:448px\"/>"
   ]
  },
  {
   "cell_type": "markdown",
   "id": "6b73021e",
   "metadata": {},
   "source": [
    "###### \n",
    "In Python, string slicing s[n:m] for a string s is done as characters of s from n to m-1. It means characters are taken from the first index to the second index-1.\n",
    "E.g., abc=\"Demo\" then abc[0:3] will give ‘Dem’ and will not give ‘Demo’ coz index number of ‘D’ is 0, ‘e’ is 1, ‘m’ is 2, and ‘o’ is 3. So it will give a range from n to m-1, i.e., 0 to 3-1=2. That’s why we got the output ‘Dem’."
   ]
  },
  {
   "cell_type": "markdown",
   "id": "cfd3657a",
   "metadata": {},
   "source": [
    "<img src=\"img/strind_3.jpg\">"
   ]
  },
  {
   "cell_type": "markdown",
   "id": "da9fcc5a",
   "metadata": {},
   "source": [
    "###### \n",
    "In string slicing, we sometimes need to give a skip value i.e. string[n:m:skip_value]. This simply takes every skip_valueth character. By default, the skip value is 1 but if we want to choose alternate characters of a string then we can give it as 2. Have a look at the example below:|"
   ]
  },
  {
   "cell_type": "markdown",
   "id": "b921d8ac",
   "metadata": {},
   "source": [
    "<img src= \"img/stringindlast_4.jpg\">"
   ]
  },
  {
   "cell_type": "markdown",
   "id": "367124a8",
   "metadata": {},
   "source": [
    "## Let's end this tutorial by looking into some of the most used string functions :\n",
    "string.endswith(): This function allows the user to check whether a given string ends with a passed argument or not. It returns True or False.\n",
    "\n",
    "string.count(): This function counts the total no. of occurrences of any character in the string. It takes the character whose occurrence you want to find as an argument.\n",
    "\n",
    "string.capitalize(): This function capitalizes the first character of any string. It doesn’t take any argument.\n",
    "\n",
    "string.upper(): It returns the copy of the string converted to the uppercase.\n",
    "\n",
    "string.lower(): It returns the copy of the string converted to lower case.\n",
    "\n",
    "string.find(): This function finds any given character or word in the entire string. It returns the index of the first character from that word.\n",
    "\n",
    "string.replace(“old_word”, “new_word”): This function replaces the old word or character with a new word or character from the entire string."
   ]
  },
  {
   "cell_type": "code",
   "execution_count": 32,
   "id": "c96fc018",
   "metadata": {},
   "outputs": [
    {
     "name": "stdout",
     "output_type": "stream",
     "text": [
      "True\n"
     ]
    }
   ],
   "source": [
    "Mystring = \"Tom is a good boy\"\n",
    "print(Mystring.endswith(\"boy\"))"
   ]
  },
  {
   "cell_type": "code",
   "execution_count": 28,
   "id": "678ee97f",
   "metadata": {},
   "outputs": [
    {
     "name": "stdout",
     "output_type": "stream",
     "text": [
      "4\n"
     ]
    }
   ],
   "source": [
    "print(Mystring.count(\"o\"))"
   ]
  },
  {
   "cell_type": "code",
   "execution_count": 30,
   "id": "707863dd",
   "metadata": {},
   "outputs": [
    {
     "name": "stdout",
     "output_type": "stream",
     "text": [
      "Tom is a good boy\n"
     ]
    }
   ],
   "source": [
    "print(Mystring.capitalize())"
   ]
  },
  {
   "cell_type": "code",
   "execution_count": 31,
   "id": "8ec295be",
   "metadata": {},
   "outputs": [
    {
     "name": "stdout",
     "output_type": "stream",
     "text": [
      "TOM IS A GOOD BOY\n"
     ]
    }
   ],
   "source": [
    "print(Mystring.upper())"
   ]
  },
  {
   "cell_type": "code",
   "execution_count": 33,
   "id": "502d8a1a",
   "metadata": {},
   "outputs": [
    {
     "name": "stdout",
     "output_type": "stream",
     "text": [
      "tom is a good boy\n"
     ]
    }
   ],
   "source": [
    "print(Mystring.lower())"
   ]
  },
  {
   "cell_type": "code",
   "execution_count": 34,
   "id": "0a59bb63",
   "metadata": {},
   "outputs": [
    {
     "name": "stdout",
     "output_type": "stream",
     "text": [
      "4\n"
     ]
    }
   ],
   "source": [
    "print(Mystring.find(\"is\"))"
   ]
  },
  {
   "cell_type": "code",
   "execution_count": 35,
   "id": "30238d25",
   "metadata": {
    "scrolled": true
   },
   "outputs": [
    {
     "name": "stdout",
     "output_type": "stream",
     "text": [
      "Tom is a nice boy\n"
     ]
    }
   ],
   "source": [
    "print(Mystring.replace(\"good\", \"nice\"))"
   ]
  }
 ],
 "metadata": {
  "kernelspec": {
   "display_name": "Python 3",
   "language": "python",
   "name": "python3"
  },
  "language_info": {
   "codemirror_mode": {
    "name": "ipython",
    "version": 3
   },
   "file_extension": ".py",
   "mimetype": "text/x-python",
   "name": "python",
   "nbconvert_exporter": "python",
   "pygments_lexer": "ipython3",
   "version": "3.8.8"
  }
 },
 "nbformat": 4,
 "nbformat_minor": 5
}
